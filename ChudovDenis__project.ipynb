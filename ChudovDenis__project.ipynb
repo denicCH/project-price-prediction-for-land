
<!-- saved from url=(0108)https://gbcdn.mrgcdn.ru/uploads/homeworkattachment/1997774/attachment/8c7e940f97ee49ce299dab75d8a9dcd8.ipynb -->
<html><head><meta http-equiv="Content-Type" content="text/html; charset=windows-1251"></head><body>{
 "cells": [
  {
   "cell_type": "markdown",
   "metadata": {},
   "source": [
    "# Курсовой проект"
   ]
  },
  {
   "cell_type": "markdown",
   "metadata": {},
   "source": [
    "**Подключение библиотек и скриптов**"
   ]
  },
  {
   "cell_type": "code",
   "execution_count": 1,
   "metadata": {},
   "outputs": [],
   "source": [
    "import numpy as np\n",
    "import pandas as pd\n",
    "import random\n",
    "\n",
    "from sklearn.model_selection import cross_val_score, train_test_split\n",
    "from sklearn.ensemble import RandomForestRegressor\n",
    "from sklearn.metrics import r2_score\n",
    "from sklearn.model_selection import KFold, GridSearchCV\n",
    "\n",
    "import matplotlib\n",
    "import matplotlib.pyplot as plt\n",
    "import seaborn as sns\n",
    "%matplotlib inline"
   ]
  },
  {
   "cell_type": "code",
   "execution_count": 2,
   "metadata": {},
   "outputs": [],
   "source": [
    "import warnings\n",
    "warnings.filterwarnings('ignore')\n",
    "sns.set(style='whitegrid')\n",
    "sns.set_context(\"paper\", font_scale=1.5)  \n",
    "pd.options.display.float_format = '{:,.2f}'.format\n",
    "pd.set_option('display.max_rows', 50)"
   ]
  },
  {
   "cell_type": "markdown",
   "metadata": {},
   "source": [
    "**Пути к директориям и файлам**"
   ]
  },
  {
   "cell_type": "code",
   "execution_count": 3,
   "metadata": {},
   "outputs": [],
   "source": [
    "\n",
    "TRAIN_DATASET_PATH ='./project_task/train.csv'\n",
    "TEST_DATASET_PATH = './project_task/test.csv'\n"
   ]
  },
  {
   "cell_type": "markdown",
   "metadata": {},
   "source": [
    "### Загрузка данных"
   ]
  },
  {
   "cell_type": "markdown",
   "metadata": {},
   "source": [
    "**Описание датасета**\n",
    "\n",
    "* **Id** - идентификационный номер квартиры\n",
    "* **DistrictId** - идентификационный номер района\n",
    "* **Rooms** - количество комнат\n",
    "* **Square** - площадь\n",
    "* **LifeSquare** - жилая площадь\n",
    "* **KitchenSquare** - площадь кухни\n",
    "* **Floor** - этаж\n",
    "* **HouseFloor** - количество этажей в доме\n",
    "* **HouseYear** - год постройки дома\n",
    "* **Ecology_1, Ecology_2, Ecology_3** - экологические показатели местности\n",
    "* **Social_1, Social_2, Social_3** - социальные показатели местности\n",
    "* **Healthcare_1, Helthcare_2** - показатели местности, связанные с охраной здоровья\n",
    "* **Shops_1, Shops_2** - показатели, связанные с наличием магазинов, торговых центров\n",
    "* **Price** - цена квартиры"
   ]
  },
  {
   "cell_type": "code",
   "execution_count": 4,
   "metadata": {},
   "outputs": [
    {
     "data": {
      "text/html": [
       "<div>\n",
       "<style scoped="">\n",
       "    .dataframe tbody tr th:only-of-type {\n",
       "        vertical-align: middle;\n",
       "    }\n",
       "\n",
       "    .dataframe tbody tr th {\n",
       "        vertical-align: top;\n",
       "    }\n",
       "\n",
       "    .dataframe thead th {\n",
       "        text-align: right;\n",
       "    }\n",
       "</style>\n",
       "\n",
       "  \n",
       "    \n",
       "      \n",
       "      \n",
       "      \n",
       "      \n",
       "      \n",
       "      \n",
       "      \n",
       "      \n",
       "      \n",
       "      \n",
       "      \n",
       "      \n",
       "      \n",
       "      \n",
       "      \n",
       "      \n",
       "      \n",
       "      \n",
       "      \n",
       "      \n",
       "      \n",
       "    \n",
       "  \n",
       "  \n",
       "    \n",
       "      \n",
       "      \n",
       "      \n",
       "      \n",
       "      \n",
       "      \n",
       "      \n",
       "      \n",
       "      \n",
       "      \n",
       "      \n",
       "      \n",
       "      \n",
       "      \n",
       "      \n",
       "      \n",
       "      \n",
       "      \n",
       "      \n",
       "      \n",
       "      \n",
       "    \n",
       "    \n",
       "      \n",
       "      \n",
       "      \n",
       "      \n",
       "      \n",
       "      \n",
       "      \n",
       "      \n",
       "      \n",
       "      \n",
       "      \n",
       "      \n",
       "      \n",
       "      \n",
       "      \n",
       "      \n",
       "      \n",
       "      \n",
       "      \n",
       "      \n",
       "      \n",
       "    \n",
       "    \n",
       "      \n",
       "      \n",
       "      \n",
       "      \n",
       "      \n",
       "      \n",
       "      \n",
       "      \n",
       "      \n",
       "      \n",
       "      \n",
       "      \n",
       "      \n",
       "      \n",
       "      \n",
       "      \n",
       "      \n",
       "      \n",
       "      \n",
       "      \n",
       "      \n",
       "    \n",
       "    \n",
       "      \n",
       "      \n",
       "      \n",
       "      \n",
       "      \n",
       "      \n",
       "      \n",
       "      \n",
       "      \n",
       "      \n",
       "      \n",
       "      \n",
       "      \n",
       "      \n",
       "      \n",
       "      \n",
       "      \n",
       "      \n",
       "      \n",
       "      \n",
       "      \n",
       "    \n",
       "    \n",
       "      \n",
       "      \n",
       "      \n",
       "      \n",
       "      \n",
       "      \n",
       "      \n",
       "      \n",
       "      \n",
       "      \n",
       "      \n",
       "      \n",
       "      \n",
       "      \n",
       "      \n",
       "      \n",
       "      \n",
       "      \n",
       "      \n",
       "      \n",
       "      \n",
       "    \n",
       "  \n",
       "<table border="\&quot;1\&quot;" class="\&quot;dataframe\&quot;"><thead><tr style="\&quot;text-align:" right;\"=""><th></th><th>Id</th><th>DistrictId</th><th>Rooms</th><th>Square</th><th>LifeSquare</th><th>KitchenSquare</th><th>Floor</th><th>HouseFloor</th><th>HouseYear</th><th>Ecology_1</th><th>Ecology_2</th><th>Ecology_3</th><th>Social_1</th><th>Social_2</th><th>Social_3</th><th>Healthcare_1</th><th>Helthcare_2</th><th>Shops_1</th><th>Shops_2</th><th>Price</th></tr></thead><tbody><tr><td>0</td><td>14038</td><td>35</td><td>2.00</td><td>47.98</td><td>29.44</td><td>6.00</td><td>7</td><td>9.00</td><td>1969</td><td>0.09</td><td>B</td><td>B</td><td>33</td><td>7976</td><td>5</td><td>nan</td><td>0</td><td>11</td><td>B</td><td>184,966.93</td></tr><tr><td>1</td><td>15053</td><td>41</td><td>3.00</td><td>65.68</td><td>40.05</td><td>8.00</td><td>7</td><td>9.00</td><td>1978</td><td>0.00</td><td>B</td><td>B</td><td>46</td><td>10309</td><td>1</td><td>240.00</td><td>1</td><td>16</td><td>B</td><td>300,009.45</td></tr><tr><td>2</td><td>4765</td><td>53</td><td>2.00</td><td>44.95</td><td>29.20</td><td>0.00</td><td>8</td><td>12.00</td><td>1968</td><td>0.05</td><td>B</td><td>B</td><td>34</td><td>7759</td><td>0</td><td>229.00</td><td>1</td><td>3</td><td>B</td><td>220,925.91</td></tr><tr><td>3</td><td>5809</td><td>58</td><td>2.00</td><td>53.35</td><td>52.73</td><td>9.00</td><td>8</td><td>17.00</td><td>1977</td><td>0.44</td><td>B</td><td>B</td><td>23</td><td>5735</td><td>3</td><td>1,084.00</td><td>0</td><td>5</td><td>B</td><td>175,616.23</td></tr><tr><td>4</td><td>10783</td><td>99</td><td>1.00</td><td>39.65</td><td>23.78</td><td>7.00</td><td>11</td><td>12.00</td><td>1976</td><td>0.01</td><td>B</td><td>B</td><td>35</td><td>5776</td><td>1</td><td>2,078.00</td><td>2</td><td>4</td><td>B</td><td>150,226.53</td></tr></tbody></table>\n",
       "</div>"
      ],
      "text/plain": [
       "      Id  DistrictId  Rooms  Square  LifeSquare  KitchenSquare  Floor  \\\n",
       "0  14038          35   2.00   47.98       29.44           6.00      7   \n",
       "1  15053          41   3.00   65.68       40.05           8.00      7   \n",
       "2   4765          53   2.00   44.95       29.20           0.00      8   \n",
       "3   5809          58   2.00   53.35       52.73           9.00      8   \n",
       "4  10783          99   1.00   39.65       23.78           7.00     11   \n",
       "\n",
       "   HouseFloor  HouseYear  Ecology_1 Ecology_2 Ecology_3  Social_1  Social_2  \\\n",
       "0        9.00       1969       0.09         B         B        33      7976   \n",
       "1        9.00       1978       0.00         B         B        46     10309   \n",
       "2       12.00       1968       0.05         B         B        34      7759   \n",
       "3       17.00       1977       0.44         B         B        23      5735   \n",
       "4       12.00       1976       0.01         B         B        35      5776   \n",
       "\n",
       "   Social_3  Healthcare_1  Helthcare_2  Shops_1 Shops_2      Price  \n",
       "0         5           nan            0       11       B 184,966.93  \n",
       "1         1        240.00            1       16       B 300,009.45  \n",
       "2         0        229.00            1        3       B 220,925.91  \n",
       "3         3      1,084.00            0        5       B 175,616.23  \n",
       "4         1      2,078.00            2        4       B 150,226.53  "
      ]
     },
     "execution_count": 4,
     "metadata": {},
     "output_type": "execute_result"
    }
   ],
   "source": [
    "train_df = pd.read_csv(TRAIN_DATASET_PATH)\n",
    "train_df.head()"
   ]
  },
  {
   "cell_type": "code",
   "execution_count": 5,
   "metadata": {},
   "outputs": [
    {
     "data": {
      "text/html": [
       "<div>\n",
       "<style scoped="">\n",
       "    .dataframe tbody tr th:only-of-type {\n",
       "        vertical-align: middle;\n",
       "    }\n",
       "\n",
       "    .dataframe tbody tr th {\n",
       "        vertical-align: top;\n",
       "    }\n",
       "\n",
       "    .dataframe thead th {\n",
       "        text-align: right;\n",
       "    }\n",
       "</style>\n",
       "\n",
       "  \n",
       "    \n",
       "      \n",
       "      \n",
       "      \n",
       "      \n",
       "      \n",
       "      \n",
       "      \n",
       "      \n",
       "      \n",
       "      \n",
       "      \n",
       "      \n",
       "      \n",
       "      \n",
       "      \n",
       "      \n",
       "      \n",
       "      \n",
       "      \n",
       "      \n",
       "    \n",
       "  \n",
       "  \n",
       "    \n",
       "      \n",
       "      \n",
       "      \n",
       "      \n",
       "      \n",
       "      \n",
       "      \n",
       "      \n",
       "      \n",
       "      \n",
       "      \n",
       "      \n",
       "      \n",
       "      \n",
       "      \n",
       "      \n",
       "      \n",
       "      \n",
       "      \n",
       "      \n",
       "    \n",
       "    \n",
       "      \n",
       "      \n",
       "      \n",
       "      \n",
       "      \n",
       "      \n",
       "      \n",
       "      \n",
       "      \n",
       "      \n",
       "      \n",
       "      \n",
       "      \n",
       "      \n",
       "      \n",
       "      \n",
       "      \n",
       "      \n",
       "      \n",
       "      \n",
       "    \n",
       "    \n",
       "      \n",
       "      \n",
       "      \n",
       "      \n",
       "      \n",
       "      \n",
       "      \n",
       "      \n",
       "      \n",
       "      \n",
       "      \n",
       "      \n",
       "      \n",
       "      \n",
       "      \n",
       "      \n",
       "      \n",
       "      \n",
       "      \n",
       "      \n",
       "    \n",
       "    \n",
       "      \n",
       "      \n",
       "      \n",
       "      \n",
       "      \n",
       "      \n",
       "      \n",
       "      \n",
       "      \n",
       "      \n",
       "      \n",
       "      \n",
       "      \n",
       "      \n",
       "      \n",
       "      \n",
       "      \n",
       "      \n",
       "      \n",
       "      \n",
       "    \n",
       "    \n",
       "      \n",
       "      \n",
       "      \n",
       "      \n",
       "      \n",
       "      \n",
       "      \n",
       "      \n",
       "      \n",
       "      \n",
       "      \n",
       "      \n",
       "      \n",
       "      \n",
       "      \n",
       "      \n",
       "      \n",
       "      \n",
       "      \n",
       "      \n",
       "    \n",
       "  \n",
       "<table border="\&quot;1\&quot;" class="\&quot;dataframe\&quot;"><thead><tr style="\&quot;text-align:" right;\"=""><th></th><th>Id</th><th>DistrictId</th><th>Rooms</th><th>Square</th><th>LifeSquare</th><th>KitchenSquare</th><th>Floor</th><th>HouseFloor</th><th>HouseYear</th><th>Ecology_1</th><th>Ecology_2</th><th>Ecology_3</th><th>Social_1</th><th>Social_2</th><th>Social_3</th><th>Healthcare_1</th><th>Helthcare_2</th><th>Shops_1</th><th>Shops_2</th></tr></thead><tbody><tr><td>0</td><td>725</td><td>58</td><td>2.00</td><td>49.88</td><td>33.43</td><td>6.00</td><td>6</td><td>14.00</td><td>1972</td><td>0.31</td><td>B</td><td>B</td><td>11</td><td>2748</td><td>1</td><td>nan</td><td>0</td><td>0</td><td>B</td></tr><tr><td>1</td><td>15856</td><td>74</td><td>2.00</td><td>69.26</td><td>nan</td><td>1.00</td><td>6</td><td>1.00</td><td>1977</td><td>0.08</td><td>B</td><td>B</td><td>6</td><td>1437</td><td>3</td><td>nan</td><td>0</td><td>2</td><td>B</td></tr><tr><td>2</td><td>5480</td><td>190</td><td>1.00</td><td>13.60</td><td>15.95</td><td>12.00</td><td>2</td><td>5.00</td><td>1909</td><td>0.00</td><td>B</td><td>B</td><td>30</td><td>7538</td><td>87</td><td>4,702.00</td><td>5</td><td>5</td><td>B</td></tr><tr><td>3</td><td>15664</td><td>47</td><td>2.00</td><td>73.05</td><td>51.94</td><td>9.00</td><td>22</td><td>22.00</td><td>2007</td><td>0.10</td><td>B</td><td>B</td><td>23</td><td>4583</td><td>3</td><td>nan</td><td>3</td><td>3</td><td>B</td></tr><tr><td>4</td><td>14275</td><td>27</td><td>1.00</td><td>47.53</td><td>43.39</td><td>1.00</td><td>17</td><td>17.00</td><td>2017</td><td>0.07</td><td>B</td><td>B</td><td>2</td><td>629</td><td>1</td><td>nan</td><td>0</td><td>0</td><td>A</td></tr></tbody></table>\n",
       "</div>"
      ],
      "text/plain": [
       "      Id  DistrictId  Rooms  Square  LifeSquare  KitchenSquare  Floor  \\\n",
       "0    725          58   2.00   49.88       33.43           6.00      6   \n",
       "1  15856          74   2.00   69.26         nan           1.00      6   \n",
       "2   5480         190   1.00   13.60       15.95          12.00      2   \n",
       "3  15664          47   2.00   73.05       51.94           9.00     22   \n",
       "4  14275          27   1.00   47.53       43.39           1.00     17   \n",
       "\n",
       "   HouseFloor  HouseYear  Ecology_1 Ecology_2 Ecology_3  Social_1  Social_2  \\\n",
       "0       14.00       1972       0.31         B         B        11      2748   \n",
       "1        1.00       1977       0.08         B         B         6      1437   \n",
       "2        5.00       1909       0.00         B         B        30      7538   \n",
       "3       22.00       2007       0.10         B         B        23      4583   \n",
       "4       17.00       2017       0.07         B         B         2       629   \n",
       "\n",
       "   Social_3  Healthcare_1  Helthcare_2  Shops_1 Shops_2  \n",
       "0         1           nan            0        0       B  \n",
       "1         3           nan            0        2       B  \n",
       "2        87      4,702.00            5        5       B  \n",
       "3         3           nan            3        3       B  \n",
       "4         1           nan            0        0       A  "
      ]
     },
     "execution_count": 5,
     "metadata": {},
     "output_type": "execute_result"
    }
   ],
   "source": [
    "test_df = pd.read_csv(TEST_DATASET_PATH)\n",
    "test_df.head()"
   ]
  },
  {
   "cell_type": "code",
   "execution_count": 6,
   "metadata": {},
   "outputs": [],
   "source": [
    "train_df.set_index('Id', inplace=True)\n",
    "test_df.set_index('Id', inplace=True)"
   ]
  },
  {
   "cell_type": "markdown",
   "metadata": {},
   "source": [
    "### Приведение типов"
   ]
  },
  {
   "cell_type": "code",
   "execution_count": 7,
   "metadata": {},
   "outputs": [
    {
     "data": {
      "text/plain": [
       "DistrictId         int64\n",
       "Rooms            float64\n",
       "Square           float64\n",
       "LifeSquare       float64\n",
       "KitchenSquare    float64\n",
       "Floor              int64\n",
       "HouseFloor       float64\n",
       "HouseYear          int64\n",
       "Ecology_1        float64\n",
       "Ecology_2         object\n",
       "Ecology_3         object\n",
       "Social_1           int64\n",
       "Social_2           int64\n",
       "Social_3           int64\n",
       "Healthcare_1     float64\n",
       "Helthcare_2        int64\n",
       "Shops_1            int64\n",
       "Shops_2           object\n",
       "Price            float64\n",
       "dtype: object"
      ]
     },
     "execution_count": 7,
     "metadata": {},
     "output_type": "execute_result"
    }
   ],
   "source": [
    "train_df.dtypes"
   ]
  },
  {
   "cell_type": "markdown",
   "metadata": {},
   "source": [
    "### Обзор данных"
   ]
  },
  {
   "cell_type": "markdown",
   "metadata": {},
   "source": [
    "**Целевая переменная**"
   ]
  },
  {
   "cell_type": "code",
   "execution_count": 8,
   "metadata": {},
   "outputs": [
    {
     "data": {
      "image/png": "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\n",
      "text/plain": [
       "<figure size="" 720x360="" with="" 1="" axes="">"
      ]
     },
     "metadata": {},
     "output_type": "display_data"
    }
   ],
   "source": [
    "plt.figure(figsize = (10, 5))\n",
    "\n",
    "train_df['Price'].hist(bins=50)\n",
    "plt.ylabel('Count')\n",
    "plt.xlabel('Price')\n",
    "plt.title('Target distribution');"
   ]
  },
  {
   "cell_type": "markdown",
   "metadata": {},
   "source": [
    "**Количественные переменные**"
   ]
  },
  {
   "cell_type": "code",
   "execution_count": 8,
   "metadata": {},
   "outputs": [
    {
     "data": {
      "text/plain": [
       "DistrictId         205\n",
       "Rooms                9\n",
       "Square           10000\n",
       "LifeSquare        7887\n",
       "KitchenSquare       58\n",
       "Floor               33\n",
       "HouseFloor          44\n",
       "HouseYear           97\n",
       "Ecology_1          129\n",
       "Ecology_2            2\n",
       "Ecology_3            2\n",
       "Social_1            51\n",
       "Social_2           142\n",
       "Social_3            30\n",
       "Healthcare_1        79\n",
       "Helthcare_2          7\n",
       "Shops_1             16\n",
       "Shops_2              2\n",
       "Price            10000\n",
       "dtype: int64"
      ]
     },
     "execution_count": 8,
     "metadata": {},
     "output_type": "execute_result"
    }
   ],
   "source": [
    "train_df.nunique()"
   ]
  },
  {
   "cell_type": "code",
   "execution_count": 9,
   "metadata": {},
   "outputs": [
    {
     "data": {
      "text/html": [
       "<div>\n",
       "<style scoped="">\n",
       "    .dataframe tbody tr th:only-of-type {\n",
       "        vertical-align: middle;\n",
       "    }\n",
       "\n",
       "    .dataframe tbody tr th {\n",
       "        vertical-align: top;\n",
       "    }\n",
       "\n",
       "    .dataframe thead th {\n",
       "        text-align: right;\n",
       "    }\n",
       "</style>\n",
       "\n",
       "  \n",
       "    \n",
       "      \n",
       "      \n",
       "      \n",
       "      \n",
       "      \n",
       "      \n",
       "      \n",
       "      \n",
       "      \n",
       "      \n",
       "      \n",
       "      \n",
       "      \n",
       "      \n",
       "      \n",
       "      \n",
       "      \n",
       "    \n",
       "  \n",
       "  \n",
       "    \n",
       "      \n",
       "      \n",
       "      \n",
       "      \n",
       "      \n",
       "      \n",
       "      \n",
       "      \n",
       "      \n",
       "      \n",
       "      \n",
       "      \n",
       "      \n",
       "      \n",
       "      \n",
       "      \n",
       "      \n",
       "    \n",
       "    \n",
       "      \n",
       "      \n",
       "      \n",
       "      \n",
       "      \n",
       "      \n",
       "      \n",
       "      \n",
       "      \n",
       "      \n",
       "      \n",
       "      \n",
       "      \n",
       "      \n",
       "      \n",
       "      \n",
       "      \n",
       "    \n",
       "    \n",
       "      \n",
       "      \n",
       "      \n",
       "      \n",
       "      \n",
       "      \n",
       "      \n",
       "      \n",
       "      \n",
       "      \n",
       "      \n",
       "      \n",
       "      \n",
       "      \n",
       "      \n",
       "      \n",
       "      \n",
       "    \n",
       "    \n",
       "      \n",
       "      \n",
       "      \n",
       "      \n",
       "      \n",
       "      \n",
       "      \n",
       "      \n",
       "      \n",
       "      \n",
       "      \n",
       "      \n",
       "      \n",
       "      \n",
       "      \n",
       "      \n",
       "      \n",
       "    \n",
       "    \n",
       "      \n",
       "      \n",
       "      \n",
       "      \n",
       "      \n",
       "      \n",
       "      \n",
       "      \n",
       "      \n",
       "      \n",
       "      \n",
       "      \n",
       "      \n",
       "      \n",
       "      \n",
       "      \n",
       "      \n",
       "    \n",
       "    \n",
       "      \n",
       "      \n",
       "      \n",
       "      \n",
       "      \n",
       "      \n",
       "      \n",
       "      \n",
       "      \n",
       "      \n",
       "      \n",
       "      \n",
       "      \n",
       "      \n",
       "      \n",
       "      \n",
       "      \n",
       "    \n",
       "    \n",
       "      \n",
       "      \n",
       "      \n",
       "      \n",
       "      \n",
       "      \n",
       "      \n",
       "      \n",
       "      \n",
       "      \n",
       "      \n",
       "      \n",
       "      \n",
       "      \n",
       "      \n",
       "      \n",
       "      \n",
       "    \n",
       "    \n",
       "      \n",
       "      \n",
       "      \n",
       "      \n",
       "      \n",
       "      \n",
       "      \n",
       "      \n",
       "      \n",
       "      \n",
       "      \n",
       "      \n",
       "      \n",
       "      \n",
       "      \n",
       "      \n",
       "      \n",
       "    \n",
       "  \n",
       "<table border="\&quot;1\&quot;" class="\&quot;dataframe\&quot;"><thead><tr style="\&quot;text-align:" right;\"=""><th></th><th>DistrictId</th><th>Rooms</th><th>Square</th><th>LifeSquare</th><th>KitchenSquare</th><th>Floor</th><th>HouseFloor</th><th>HouseYear</th><th>Ecology_1</th><th>Social_1</th><th>Social_2</th><th>Social_3</th><th>Healthcare_1</th><th>Helthcare_2</th><th>Shops_1</th><th>Price</th></tr></thead><tbody><tr><td>count</td><td>10,000.00</td><td>10,000.00</td><td>10,000.00</td><td>7,887.00</td><td>10,000.00</td><td>10,000.00</td><td>10,000.00</td><td>10,000.00</td><td>10,000.00</td><td>10,000.00</td><td>10,000.00</td><td>10,000.00</td><td>5,202.00</td><td>10,000.00</td><td>10,000.00</td><td>10,000.00</td></tr><tr><td>mean</td><td>50.40</td><td>1.89</td><td>56.32</td><td>37.20</td><td>6.27</td><td>8.53</td><td>12.61</td><td>3,990.17</td><td>0.12</td><td>24.69</td><td>5,352.16</td><td>8.04</td><td>1,142.90</td><td>1.32</td><td>4.23</td><td>214,138.86</td></tr><tr><td>std</td><td>43.59</td><td>0.84</td><td>21.06</td><td>86.24</td><td>28.56</td><td>5.24</td><td>6.78</td><td>200,500.26</td><td>0.12</td><td>17.53</td><td>4,006.80</td><td>23.83</td><td>1,021.52</td><td>1.49</td><td>4.81</td><td>92,872.29</td></tr><tr><td>min</td><td>0.00</td><td>0.00</td><td>1.14</td><td>0.37</td><td>0.00</td><td>1.00</td><td>0.00</td><td>1,910.00</td><td>0.00</td><td>0.00</td><td>168.00</td><td>0.00</td><td>0.00</td><td>0.00</td><td>0.00</td><td>59,174.78</td></tr><tr><td>25%</td><td>20.00</td><td>1.00</td><td>41.77</td><td>22.77</td><td>1.00</td><td>4.00</td><td>9.00</td><td>1,974.00</td><td>0.02</td><td>6.00</td><td>1,564.00</td><td>0.00</td><td>350.00</td><td>0.00</td><td>1.00</td><td>153,872.63</td></tr><tr><td>50%</td><td>36.00</td><td>2.00</td><td>52.51</td><td>32.78</td><td>6.00</td><td>7.00</td><td>13.00</td><td>1,977.00</td><td>0.08</td><td>25.00</td><td>5,285.00</td><td>2.00</td><td>900.00</td><td>1.00</td><td>3.00</td><td>192,269.64</td></tr><tr><td>75%</td><td>75.00</td><td>2.00</td><td>65.90</td><td>45.13</td><td>9.00</td><td>12.00</td><td>17.00</td><td>2,001.00</td><td>0.20</td><td>36.00</td><td>7,227.00</td><td>5.00</td><td>1,548.00</td><td>2.00</td><td>6.00</td><td>249,135.46</td></tr><tr><td>max</td><td>209.00</td><td>19.00</td><td>641.07</td><td>7,480.59</td><td>2,014.00</td><td>42.00</td><td>117.00</td><td>20,052,011.00</td><td>0.52</td><td>74.00</td><td>19,083.00</td><td>141.00</td><td>4,849.00</td><td>6.00</td><td>23.00</td><td>633,233.47</td></tr></tbody></table>\n",
       "</div>"
      ],
      "text/plain": [
       "       DistrictId     Rooms    Square  LifeSquare  KitchenSquare     Floor  \\\n",
       "count   10,000.00 10,000.00 10,000.00    7,887.00      10,000.00 10,000.00   \n",
       "mean        50.40      1.89     56.32       37.20           6.27      8.53   \n",
       "std         43.59      0.84     21.06       86.24          28.56      5.24   \n",
       "min          0.00      0.00      1.14        0.37           0.00      1.00   \n",
       "25%         20.00      1.00     41.77       22.77           1.00      4.00   \n",
       "50%         36.00      2.00     52.51       32.78           6.00      7.00   \n",
       "75%         75.00      2.00     65.90       45.13           9.00     12.00   \n",
       "max        209.00     19.00    641.07    7,480.59       2,014.00     42.00   \n",
       "\n",
       "       HouseFloor     HouseYear  Ecology_1  Social_1  Social_2  Social_3  \\\n",
       "count   10,000.00     10,000.00  10,000.00 10,000.00 10,000.00 10,000.00   \n",
       "mean        12.61      3,990.17       0.12     24.69  5,352.16      8.04   \n",
       "std          6.78    200,500.26       0.12     17.53  4,006.80     23.83   \n",
       "min          0.00      1,910.00       0.00      0.00    168.00      0.00   \n",
       "25%          9.00      1,974.00       0.02      6.00  1,564.00      0.00   \n",
       "50%         13.00      1,977.00       0.08     25.00  5,285.00      2.00   \n",
       "75%         17.00      2,001.00       0.20     36.00  7,227.00      5.00   \n",
       "max        117.00 20,052,011.00       0.52     74.00 19,083.00    141.00   \n",
       "\n",
       "       Healthcare_1  Helthcare_2   Shops_1      Price  \n",
       "count      5,202.00    10,000.00 10,000.00  10,000.00  \n",
       "mean       1,142.90         1.32      4.23 214,138.86  \n",
       "std        1,021.52         1.49      4.81  92,872.29  \n",
       "min            0.00         0.00      0.00  59,174.78  \n",
       "25%          350.00         0.00      1.00 153,872.63  \n",
       "50%          900.00         1.00      3.00 192,269.64  \n",
       "75%        1,548.00         2.00      6.00 249,135.46  \n",
       "max        4,849.00         6.00     23.00 633,233.47  "
      ]
     },
     "execution_count": 9,
     "metadata": {},
     "output_type": "execute_result"
    }
   ],
   "source": [
    "train_df.describe()"
   ]
  },
  {
   "cell_type": "code",
   "execution_count": 10,
   "metadata": {},
   "outputs": [
    {
     "data": {
      "text/plain": [
       "['DistrictId',\n",
       " 'Rooms',\n",
       " 'Square',\n",
       " 'LifeSquare',\n",
       " 'KitchenSquare',\n",
       " 'Floor',\n",
       " 'HouseFloor',\n",
       " 'HouseYear',\n",
       " 'Ecology_1',\n",
       " 'Social_1',\n",
       " 'Social_2',\n",
       " 'Social_3',\n",
       " 'Healthcare_1',\n",
       " 'Helthcare_2',\n",
       " 'Shops_1']"
      ]
     },
     "execution_count": 10,
     "metadata": {},
     "output_type": "execute_result"
    }
   ],
   "source": [
    "feature_num_names = train_df.drop('Price', axis=1).select_dtypes(include=['float64', 'int64']).\\\n",
    "        columns.tolist()\n",
    "feature_num_names"
   ]
  },
  {
   "cell_type": "code",
   "execution_count": 11,
   "metadata": {},
   "outputs": [
    {
     "data": {
      "image/png": "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\n",
      "text/plain": [
       "<figure size="" 1008x1008="" with="" 16="" axes="">"
      ]
     },
     "metadata": {},
     "output_type": "display_data"
    }
   ],
   "source": [
    "train_df[feature_num_names].hist(figsize=(14,14), bins=20, grid=True);"
   ]
  },
  {
   "cell_type": "markdown",
   "metadata": {},
   "source": [
    "**Категориальные переменные**"
   ]
  },
  {
   "cell_type": "code",
   "execution_count": 12,
   "metadata": {},
   "outputs": [
    {
     "data": {
      "text/plain": [
       "['Ecology_2', 'Ecology_3', 'Shops_2']"
      ]
     },
     "execution_count": 12,
     "metadata": {},
     "output_type": "execute_result"
    }
   ],
   "source": [
    "feature_cat_names = train_df.select_dtypes(include='object').columns.tolist()\n",
    "feature_cat_names"
   ]
  },
  {
   "cell_type": "code",
   "execution_count": 13,
   "metadata": {},
   "outputs": [
    {
     "data": {
      "text/plain": [
       "B    9903\n",
       "A      97\n",
       "Name: Ecology_2, dtype: int64"
      ]
     },
     "execution_count": 13,
     "metadata": {},
     "output_type": "execute_result"
    }
   ],
   "source": [
    "train_df['Ecology_2'].value_counts()"
   ]
  },
  {
   "cell_type": "code",
   "execution_count": 14,
   "metadata": {},
   "outputs": [
    {
     "data": {
      "text/plain": [
       "B    9725\n",
       "A     275\n",
       "Name: Ecology_3, dtype: int64"
      ]
     },
     "execution_count": 14,
     "metadata": {},
     "output_type": "execute_result"
    }
   ],
   "source": [
    "train_df['Ecology_3'].value_counts()"
   ]
  },
  {
   "cell_type": "code",
   "execution_count": 15,
   "metadata": {},
   "outputs": [
    {
     "data": {
      "text/plain": [
       "B    9175\n",
       "A     825\n",
       "Name: Shops_2, dtype: int64"
      ]
     },
     "execution_count": 15,
     "metadata": {},
     "output_type": "execute_result"
    }
   ],
   "source": [
    "train_df['Shops_2'].value_counts()"
   ]
  },
  {
   "cell_type": "code",
   "execution_count": 16,
   "metadata": {},
   "outputs": [
    {
     "name": "stdout",
     "output_type": "stream",
     "text": [
      "<class 'pandas.core.frame.dataframe'="">\n",
      "Int64Index: 10000 entries, 14038 to 6306\n",
      "Data columns (total 19 columns):\n",
      "DistrictId       10000 non-null int64\n",
      "Rooms            10000 non-null float64\n",
      "Square           10000 non-null float64\n",
      "LifeSquare       7887 non-null float64\n",
      "KitchenSquare    10000 non-null float64\n",
      "Floor            10000 non-null int64\n",
      "HouseFloor       10000 non-null float64\n",
      "HouseYear        10000 non-null int64\n",
      "Ecology_1        10000 non-null float64\n",
      "Ecology_2        10000 non-null int64\n",
      "Ecology_3        10000 non-null int64\n",
      "Social_1         10000 non-null int64\n",
      "Social_2         10000 non-null int64\n",
      "Social_3         10000 non-null int64\n",
      "Healthcare_1     5202 non-null float64\n",
      "Helthcare_2      10000 non-null int64\n",
      "Shops_1          10000 non-null int64\n",
      "Shops_2          10000 non-null int64\n",
      "Price            10000 non-null float64\n",
      "dtypes: float64(8), int64(11)\n",
      "memory usage: 1.5 MB\n"
     ]
    }
   ],
   "source": [
    "feature_bin_names = ['Ecology_2', 'Ecology_3', 'Shops_2']\n",
    "train_df[feature_bin_names] = train_df[feature_bin_names].replace({'A':0, 'B':1})\n",
    "test_df[feature_bin_names] = test_df[feature_bin_names].replace({'A':0, 'B':1})\n",
    "train_df.info()"
   ]
  },
  {
   "cell_type": "markdown",
   "metadata": {},
   "source": [
    "### Обработка пропусков"
   ]
  },
  {
   "cell_type": "code",
   "execution_count": 17,
   "metadata": {},
   "outputs": [
    {
     "data": {
      "text/plain": [
       "LifeSquare      2113\n",
       "Healthcare_1    4798\n",
       "dtype: int64"
      ]
     },
     "execution_count": 17,
     "metadata": {},
     "output_type": "execute_result"
    }
   ],
   "source": [
    "train_df.isna().sum()[train_df.isna().sum() != 0]"
   ]
  },
  {
   "cell_type": "markdown",
   "metadata": {},
   "source": [
    "**LifeSquare**"
   ]
  },
  {
   "cell_type": "code",
   "execution_count": 18,
   "metadata": {},
   "outputs": [],
   "source": [
    "train_df.loc[train_df['LifeSquare'].isna(), 'LifeSquare'] = \\\n",
    "    train_df['Square'] - train_df['KitchenSquare']\n",
    "test_df.loc[test_df['LifeSquare'].isna(), 'LifeSquare'] = \\\n",
    "     test_df['Square'] - test_df['KitchenSquare']\n"
   ]
  },
  {
   "cell_type": "code",
   "execution_count": 19,
   "metadata": {},
   "outputs": [
    {
     "data": {
      "text/plain": [
       "37.04082933927086"
      ]
     },
     "execution_count": 19,
     "metadata": {},
     "output_type": "execute_result"
    }
   ],
   "source": [
    "train_df.loc[train_df['LifeSquare'].notnull(), 'LifeSquare'].median()"
   ]
  },
  {
   "cell_type": "markdown",
   "metadata": {},
   "source": [
    "**Healthcare_1**"
   ]
  },
  {
   "cell_type": "code",
   "execution_count": 20,
   "metadata": {},
   "outputs": [],
   "source": [
    "train_df['Healthcare_1'].fillna(train_df['Healthcare_1'].median(), inplace=True)\n",
    "test_df['Healthcare_1'].fillna(train_df['Healthcare_1'].median(), inplace=True)"
   ]
  },
  {
   "cell_type": "markdown",
   "metadata": {},
   "source": [
    "### Отбор признаков"
   ]
  },
  {
   "cell_type": "code",
   "execution_count": 21,
   "metadata": {},
   "outputs": [],
   "source": [
    "train_df.to_csv('train_prepared.csv')\n",
    "test_df.to_csv('test_prepared.csv')"
   ]
  },
  {
   "cell_type": "code",
   "execution_count": 22,
   "metadata": {},
   "outputs": [
    {
     "data": {
      "text/plain": [
       "['DistrictId',\n",
       " 'Rooms',\n",
       " 'Square',\n",
       " 'LifeSquare',\n",
       " 'KitchenSquare',\n",
       " 'Floor',\n",
       " 'HouseFloor',\n",
       " 'HouseYear',\n",
       " 'Ecology_1',\n",
       " 'Ecology_2',\n",
       " 'Ecology_3',\n",
       " 'Social_1',\n",
       " 'Social_2',\n",
       " 'Social_3',\n",
       " 'Healthcare_1',\n",
       " 'Helthcare_2',\n",
       " 'Shops_1',\n",
       " 'Shops_2',\n",
       " 'Price']"
      ]
     },
     "execution_count": 22,
     "metadata": {},
     "output_type": "execute_result"
    }
   ],
   "source": [
    "feature_names = train_df.columns\n",
    "feature_names.tolist()"
   ]
  },
  {
   "cell_type": "code",
   "execution_count": 23,
   "metadata": {},
   "outputs": [],
   "source": [
    "target_name = ['Price']\n",
    "feature_names = [\n",
    "             'DistrictId',\n",
    "             'Rooms',\n",
    "             'Square',\n",
    "             'LifeSquare',\n",
    "             'KitchenSquare',\n",
    "             'Floor',\n",
    "             'HouseFloor',\n",
    "             'HouseYear',\n",
    "             'Ecology_1',\n",
    "#             'Ecology_2',\n",
    "#             'Ecology_3',\n",
    "             'Social_1',\n",
    "             'Social_2',\n",
    "             'Social_3',\n",
    "             'Healthcare_1',\n",
    "             'Helthcare_2',\n",
    "             'Shops_1'\n",
    "                ]"
   ]
  },
  {
   "cell_type": "code",
   "execution_count": 24,
   "metadata": {
    "scrolled": true
   },
   "outputs": [],
   "source": [
    "X = train_df[feature_names]\n",
    "y = train_df[target_name]\n",
    "X_test = test_df[feature_names]"
   ]
  },
  {
   "cell_type": "markdown",
   "metadata": {},
   "source": [
    "### Построение модели Random Forest"
   ]
  },
  {
   "cell_type": "markdown",
   "metadata": {},
   "source": [
    "**Перекрестная проверка модели**"
   ]
  },
  {
   "cell_type": "code",
   "execution_count": 25,
   "metadata": {},
   "outputs": [],
   "source": [
    "forest = RandomForestRegressor(max_depth=19, \n",
    "                               max_features=4, \n",
    "                               n_estimators=1000,\n",
    "                               random_state=42)"
   ]
  },
  {
   "cell_type": "code",
   "execution_count": 26,
   "metadata": {},
   "outputs": [
    {
     "name": "stdout",
     "output_type": "stream",
     "text": [
      "R2: 0.75175\n",
      "Wall time: 2min 9s\n"
     ]
    }
   ],
   "source": [
    "%%time\n",
    "kf = KFold(n_splits=10, random_state=42, shuffle=True)\n",
    "\n",
    "cv_score = cross_val_score(forest, X, y, scoring='r2', cv=kf)\n",
    "print('R2: {:.5f}'.format(cv_score.mean()))"
   ]
  },
  {
   "cell_type": "markdown",
   "metadata": {},
   "source": [
    "**Важность признаков**"
   ]
  },
  {
   "cell_type": "code",
   "execution_count": 27,
   "metadata": {},
   "outputs": [],
   "source": [
    "forest.fit(X, y)\n",
    "importances = forest.feature_importances_\n",
    "feat_importances = pd.Series(importances, index=feature_names)\n",
    "feat_importances.sort_values(ascending=True, inplace=True)"
   ]
  },
  {
   "cell_type": "code",
   "execution_count": 28,
   "metadata": {},
   "outputs": [
    {
     "data": {
      "image/png": "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\n",
      "text/plain": [
       "<figure size="" 720x432="" with="" 1="" axes="">"
      ]
     },
     "metadata": {},
     "output_type": "display_data"
    }
   ],
   "source": [
    "feat_importances.plot(kind='barh', figsize=(10, 6));"
   ]
  },
  {
   "cell_type": "markdown",
   "metadata": {},
   "source": [
    "### Настройка гиперпараметров Random Forest "
   ]
  },
  {
   "cell_type": "code",
   "execution_count": 32,
   "metadata": {},
   "outputs": [],
   "source": [
    "params = {\n",
    "    'n_estimators': [1000],\n",
    "    'max_depth': [19],\n",
    "    'max_features': [4]\n",
    "}"
   ]
  },
  {
   "cell_type": "code",
   "execution_count": 33,
   "metadata": {},
   "outputs": [
    {
     "name": "stdout",
     "output_type": "stream",
     "text": [
      "{'max_depth': 19, 'max_features': 4, 'n_estimators': 1000}\n",
      "R2 на train: 0.75175\n",
      "Wall time: 52.9 s\n"
     ]
    }
   ],
   "source": [
    "%%time\n",
    "forest_grid = GridSearchCV(forest, params, scoring='r2', \n",
    "                  cv=KFold(n_splits=10, random_state=42, shuffle=True), \n",
    "                  n_jobs=-1)\n",
    "forest_grid.fit(X, y)\n",
    "print(forest_grid.best_params_)\n",
    "print('R2 на train: {:.5f}'.format(forest_grid.best_score_))"
   ]
  },
  {
   "cell_type": "markdown",
   "metadata": {},
   "source": [
    "### Прогнозирование на тестовом датасете\n"
   ]
  },
  {
   "cell_type": "code",
   "execution_count": 34,
   "metadata": {},
   "outputs": [],
   "source": [
    "forest_best = forest_grid.best_estimator_\n",
    "y_pred = forest_best.predict(X_test)"
   ]
  },
  {
   "cell_type": "code",
   "execution_count": 35,
   "metadata": {},
   "outputs": [
    {
     "data": {
      "text/html": [
       "<div>\n",
       "<style scoped="">\n",
       "    .dataframe tbody tr th:only-of-type {\n",
       "        vertical-align: middle;\n",
       "    }\n",
       "\n",
       "    .dataframe tbody tr th {\n",
       "        vertical-align: top;\n",
       "    }\n",
       "\n",
       "    .dataframe thead th {\n",
       "        text-align: right;\n",
       "    }\n",
       "</style>\n",
       "\n",
       "  \n",
       "    \n",
       "      \n",
       "      \n",
       "      \n",
       "    \n",
       "  \n",
       "  \n",
       "    \n",
       "      \n",
       "      \n",
       "      \n",
       "    \n",
       "    \n",
       "      \n",
       "      \n",
       "      \n",
       "    \n",
       "    \n",
       "      \n",
       "      \n",
       "      \n",
       "    \n",
       "    \n",
       "      \n",
       "      \n",
       "      \n",
       "    \n",
       "    \n",
       "      \n",
       "      \n",
       "      \n",
       "    \n",
       "    \n",
       "      \n",
       "      \n",
       "      \n",
       "    \n",
       "    \n",
       "      \n",
       "      \n",
       "      \n",
       "    \n",
       "    \n",
       "      \n",
       "      \n",
       "      \n",
       "    \n",
       "    \n",
       "      \n",
       "      \n",
       "      \n",
       "    \n",
       "    \n",
       "      \n",
       "      \n",
       "      \n",
       "    \n",
       "    \n",
       "      \n",
       "      \n",
       "      \n",
       "    \n",
       "  \n",
       "<table border="\&quot;1\&quot;" class="\&quot;dataframe\&quot;"><thead><tr style="\&quot;text-align:" right;\"=""><th></th><th>Id</th><th>Price</th></tr></thead><tbody><tr><td>0</td><td>725</td><td>162,854.59</td></tr><tr><td>1</td><td>15856</td><td>229,035.74</td></tr><tr><td>2</td><td>5480</td><td>234,167.43</td></tr><tr><td>3</td><td>15664</td><td>337,903.34</td></tr><tr><td>4</td><td>14275</td><td>139,734.58</td></tr><tr><td>...</td><td>...</td><td>...</td></tr><tr><td>4995</td><td>8180</td><td>250,665.84</td></tr><tr><td>4996</td><td>4695</td><td>127,794.39</td></tr><tr><td>4997</td><td>5783</td><td>329,613.42</td></tr><tr><td>4998</td><td>4780</td><td>205,582.83</td></tr><tr><td>4999</td><td>12504</td><td>176,937.30</td></tr></tbody></table>\n",
       "<p>5000 rows × 2 columns</p>\n",
       "</div>"
      ],
      "text/plain": [
       "         Id      Price\n",
       "0       725 162,854.59\n",
       "1     15856 229,035.74\n",
       "2      5480 234,167.43\n",
       "3     15664 337,903.34\n",
       "4     14275 139,734.58\n",
       "...     ...        ...\n",
       "4995   8180 250,665.84\n",
       "4996   4695 127,794.39\n",
       "4997   5783 329,613.42\n",
       "4998   4780 205,582.83\n",
       "4999  12504 176,937.30\n",
       "\n",
       "[5000 rows x 2 columns]"
      ]
     },
     "execution_count": 35,
     "metadata": {},
     "output_type": "execute_result"
    }
   ],
   "source": [
    "preds = pd.DataFrame()\n",
    "preds['Id'] = X_test.index\n",
    "preds['Price'] = y_pred\n",
    "preds"
   ]
  },
  {
   "cell_type": "code",
   "execution_count": 36,
   "metadata": {},
   "outputs": [],
   "source": [
    "preds.to_csv('ChudovDenis_predictions.csv', index=False)"
   ]
  }
 ],
 "metadata": {
  "kernelspec": {
   "display_name": "Python 3",
   "language": "python",
   "name": "python3"
  },
  "language_info": {
   "codemirror_mode": {
    "name": "ipython",
    "version": 3
   },
   "file_extension": ".py",
   "mimetype": "text/x-python",
   "name": "python",
   "nbconvert_exporter": "python",
   "pygments_lexer": "ipython3",
   "version": "3.7.4"
  }
 },
 "nbformat": 4,
 "nbformat_minor": 2
}
</figure></class></figure></figure></body></html>